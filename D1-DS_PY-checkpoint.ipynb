{
 "cells": [
  {
   "cell_type": "code",
   "execution_count": 4,
   "id": "29219b98",
   "metadata": {},
   "outputs": [
    {
     "name": "stdout",
     "output_type": "stream",
     "text": [
      "Hello World\n"
     ]
    }
   ],
   "source": [
    "print(\"Hello World\")"
   ]
  },
  {
   "cell_type": "markdown",
   "id": "ae9fbc54",
   "metadata": {},
   "source": [
    "### Array Operation"
   ]
  },
  {
   "cell_type": "code",
   "execution_count": 5,
   "id": "9fa07e37",
   "metadata": {},
   "outputs": [],
   "source": [
    "import numpy as np"
   ]
  },
  {
   "cell_type": "code",
   "execution_count": 6,
   "id": "667725b8",
   "metadata": {},
   "outputs": [],
   "source": [
    "num= np.array([32,64,98,12,94,20,55])"
   ]
  },
  {
   "cell_type": "code",
   "execution_count": 8,
   "id": "359c92ad",
   "metadata": {},
   "outputs": [
    {
     "name": "stdout",
     "output_type": "stream",
     "text": [
      "[32 64 98 12 94 20 55]\n"
     ]
    }
   ],
   "source": [
    "print(num)"
   ]
  },
  {
   "cell_type": "code",
   "execution_count": 9,
   "id": "120212b8",
   "metadata": {},
   "outputs": [
    {
     "data": {
      "text/plain": [
       "array([32, 64, 98, 12, 94, 20, 55])"
      ]
     },
     "execution_count": 9,
     "metadata": {},
     "output_type": "execute_result"
    }
   ],
   "source": [
    "num"
   ]
  },
  {
   "cell_type": "code",
   "execution_count": 10,
   "id": "53795ce6",
   "metadata": {},
   "outputs": [
    {
     "data": {
      "text/plain": [
       "98"
      ]
     },
     "execution_count": 10,
     "metadata": {},
     "output_type": "execute_result"
    }
   ],
   "source": [
    "num[2]"
   ]
  },
  {
   "cell_type": "code",
   "execution_count": 11,
   "id": "fb2fa651",
   "metadata": {},
   "outputs": [],
   "source": [
    "num[2]=102"
   ]
  },
  {
   "cell_type": "code",
   "execution_count": 12,
   "id": "5fa09317",
   "metadata": {},
   "outputs": [
    {
     "data": {
      "text/plain": [
       "array([ 32,  64, 102,  12,  94,  20,  55])"
      ]
     },
     "execution_count": 12,
     "metadata": {},
     "output_type": "execute_result"
    }
   ],
   "source": [
    "num"
   ]
  },
  {
   "cell_type": "code",
   "execution_count": 14,
   "id": "6dc660a3",
   "metadata": {},
   "outputs": [
    {
     "data": {
      "text/plain": [
       "102"
      ]
     },
     "execution_count": 14,
     "metadata": {},
     "output_type": "execute_result"
    }
   ],
   "source": [
    "num[-5]"
   ]
  },
  {
   "cell_type": "code",
   "execution_count": 15,
   "id": "c3e87825",
   "metadata": {},
   "outputs": [
    {
     "data": {
      "text/plain": [
       "array([ 64, 102,  12,  94,  20])"
      ]
     },
     "execution_count": 15,
     "metadata": {},
     "output_type": "execute_result"
    }
   ],
   "source": [
    "num[1:6]"
   ]
  },
  {
   "cell_type": "code",
   "execution_count": 16,
   "id": "8a9fc059",
   "metadata": {},
   "outputs": [
    {
     "data": {
      "text/plain": [
       "dtype('int32')"
      ]
     },
     "execution_count": 16,
     "metadata": {},
     "output_type": "execute_result"
    }
   ],
   "source": [
    "num.dtype"
   ]
  },
  {
   "cell_type": "markdown",
   "id": "79263444",
   "metadata": {},
   "source": [
    "### comment"
   ]
  },
  {
   "cell_type": "code",
   "execution_count": 17,
   "id": "c5686b4f",
   "metadata": {},
   "outputs": [
    {
     "data": {
      "text/plain": [
       "7"
      ]
     },
     "execution_count": 17,
     "metadata": {},
     "output_type": "execute_result"
    }
   ],
   "source": [
    "num.size"
   ]
  },
  {
   "cell_type": "code",
   "execution_count": 18,
   "id": "8af2f417",
   "metadata": {},
   "outputs": [
    {
     "data": {
      "text/plain": [
       "(7,)"
      ]
     },
     "execution_count": 18,
     "metadata": {},
     "output_type": "execute_result"
    }
   ],
   "source": [
    "num.shape"
   ]
  },
  {
   "cell_type": "code",
   "execution_count": 19,
   "id": "235aa984",
   "metadata": {},
   "outputs": [],
   "source": [
    "num=np.array([122, 54, 98, 28, 12.59, 90, 29])"
   ]
  },
  {
   "cell_type": "code",
   "execution_count": 20,
   "id": "c3ab0a51",
   "metadata": {},
   "outputs": [
    {
     "data": {
      "text/plain": [
       "array([122.  ,  54.  ,  98.  ,  28.  ,  12.59,  90.  ,  29.  ])"
      ]
     },
     "execution_count": 20,
     "metadata": {},
     "output_type": "execute_result"
    }
   ],
   "source": [
    "num"
   ]
  },
  {
   "cell_type": "code",
   "execution_count": 21,
   "id": "84132939",
   "metadata": {},
   "outputs": [
    {
     "data": {
      "text/plain": [
       "90.0"
      ]
     },
     "execution_count": 21,
     "metadata": {},
     "output_type": "execute_result"
    }
   ],
   "source": [
    "num[5]"
   ]
  },
  {
   "cell_type": "code",
   "execution_count": 22,
   "id": "f73fe176",
   "metadata": {},
   "outputs": [
    {
     "data": {
      "text/plain": [
       "array(['122', '54', '98', '28', '12.59', 'hey', '90', '29'], dtype='<U32')"
      ]
     },
     "execution_count": 22,
     "metadata": {},
     "output_type": "execute_result"
    }
   ],
   "source": [
    "num=np.array([122, 54, 98, 28, 12.59, \"hey\", 90, 29])\n",
    "num"
   ]
  },
  {
   "cell_type": "code",
   "execution_count": 23,
   "id": "4057917c",
   "metadata": {},
   "outputs": [
    {
     "data": {
      "text/plain": [
       "65"
      ]
     },
     "execution_count": 23,
     "metadata": {},
     "output_type": "execute_result"
    }
   ],
   "source": [
    "ord('A')"
   ]
  },
  {
   "cell_type": "code",
   "execution_count": 24,
   "id": "2e83945b",
   "metadata": {},
   "outputs": [
    {
     "data": {
      "text/plain": [
       "109"
      ]
     },
     "execution_count": 24,
     "metadata": {},
     "output_type": "execute_result"
    }
   ],
   "source": [
    "ord('m')"
   ]
  },
  {
   "cell_type": "code",
   "execution_count": 25,
   "id": "6dfc1d84",
   "metadata": {},
   "outputs": [
    {
     "data": {
      "text/plain": [
       "69"
      ]
     },
     "execution_count": 25,
     "metadata": {},
     "output_type": "execute_result"
    }
   ],
   "source": [
    "ord('E')"
   ]
  },
  {
   "cell_type": "code",
   "execution_count": 26,
   "id": "3d977e5f",
   "metadata": {},
   "outputs": [
    {
     "name": "stdout",
     "output_type": "stream",
     "text": [
      "['मुंबई', 'पुणे', 'नागपुर', 'गोंदिया']\n"
     ]
    }
   ],
   "source": [
    "city = ['मुंबई','पुणे','नागपुर','गोंदिया']\n",
    "print(city)"
   ]
  },
  {
   "cell_type": "code",
   "execution_count": 27,
   "id": "c63fe408",
   "metadata": {},
   "outputs": [
    {
     "ename": "IndexError",
     "evalue": "list index out of range",
     "output_type": "error",
     "traceback": [
      "\u001b[1;31m---------------------------------------------------------------------------\u001b[0m",
      "\u001b[1;31mIndexError\u001b[0m                                Traceback (most recent call last)",
      "\u001b[1;32m~\\AppData\\Local\\Temp\\ipykernel_6020\\2893702610.py\u001b[0m in \u001b[0;36m<module>\u001b[1;34m\u001b[0m\n\u001b[1;32m----> 1\u001b[1;33m \u001b[0mcity\u001b[0m\u001b[1;33m[\u001b[0m\u001b[1;36m4\u001b[0m\u001b[1;33m]\u001b[0m\u001b[1;33m\u001b[0m\u001b[1;33m\u001b[0m\u001b[0m\n\u001b[0m",
      "\u001b[1;31mIndexError\u001b[0m: list index out of range"
     ]
    }
   ],
   "source": [
    "city[4]"
   ]
  },
  {
   "cell_type": "code",
   "execution_count": 28,
   "id": "5c5d34b5",
   "metadata": {},
   "outputs": [
    {
     "data": {
      "text/plain": [
       "'नागपुर'"
      ]
     },
     "execution_count": 28,
     "metadata": {},
     "output_type": "execute_result"
    }
   ],
   "source": [
    "city[2]"
   ]
  },
  {
   "cell_type": "code",
   "execution_count": 29,
   "id": "cd55420c",
   "metadata": {},
   "outputs": [
    {
     "data": {
      "text/plain": [
       "'गोंदियागोंदियागोंदियागोंदियागोंदियागोंदिया'"
      ]
     },
     "execution_count": 29,
     "metadata": {},
     "output_type": "execute_result"
    }
   ],
   "source": [
    "city[3] * 6"
   ]
  },
  {
   "cell_type": "code",
   "execution_count": 30,
   "id": "eae634d5",
   "metadata": {},
   "outputs": [
    {
     "data": {
      "text/plain": [
       "True"
      ]
     },
     "execution_count": 30,
     "metadata": {},
     "output_type": "execute_result"
    }
   ],
   "source": [
    "city[3].startswith(\"ग\")"
   ]
  },
  {
   "cell_type": "code",
   "execution_count": 31,
   "id": "79d7c91b",
   "metadata": {},
   "outputs": [
    {
     "data": {
      "text/plain": [
       "False"
      ]
     },
     "execution_count": 31,
     "metadata": {},
     "output_type": "execute_result"
    }
   ],
   "source": [
    "city[3].startswith(\"ब\")"
   ]
  },
  {
   "cell_type": "code",
   "execution_count": 32,
   "id": "ee1d069b",
   "metadata": {},
   "outputs": [
    {
     "data": {
      "text/plain": [
       "['मुंबई', 'पुणे', 'नागपुर', 'गोंदिया']"
      ]
     },
     "execution_count": 32,
     "metadata": {},
     "output_type": "execute_result"
    }
   ],
   "source": [
    "city"
   ]
  },
  {
   "cell_type": "code",
   "execution_count": 33,
   "id": "948214b2",
   "metadata": {},
   "outputs": [
    {
     "ename": "AttributeError",
     "evalue": "'list' object has no attribute 'dtype'",
     "output_type": "error",
     "traceback": [
      "\u001b[1;31m---------------------------------------------------------------------------\u001b[0m",
      "\u001b[1;31mAttributeError\u001b[0m                            Traceback (most recent call last)",
      "\u001b[1;32m~\\AppData\\Local\\Temp\\ipykernel_6020\\1006680968.py\u001b[0m in \u001b[0;36m<module>\u001b[1;34m\u001b[0m\n\u001b[1;32m----> 1\u001b[1;33m \u001b[0mcity\u001b[0m\u001b[1;33m.\u001b[0m\u001b[0mdtype\u001b[0m\u001b[1;33m\u001b[0m\u001b[1;33m\u001b[0m\u001b[0m\n\u001b[0m",
      "\u001b[1;31mAttributeError\u001b[0m: 'list' object has no attribute 'dtype'"
     ]
    }
   ],
   "source": [
    "city.dtype"
   ]
  },
  {
   "cell_type": "code",
   "execution_count": 34,
   "id": "70efefa0",
   "metadata": {},
   "outputs": [
    {
     "data": {
      "text/plain": [
       "array(['मुंबई', 'पुणे', 'नागपुर', 'गोंदिया'], dtype='<U7')"
      ]
     },
     "execution_count": 34,
     "metadata": {},
     "output_type": "execute_result"
    }
   ],
   "source": [
    "city = np.array(['मुंबई','पुणे','नागपुर','गोंदिया'])\n",
    "city"
   ]
  },
  {
   "cell_type": "code",
   "execution_count": 35,
   "id": "efea14e8",
   "metadata": {},
   "outputs": [
    {
     "ename": "UFuncTypeError",
     "evalue": "ufunc 'multiply' did not contain a loop with signature matching types (dtype('<U32'), dtype('int32')) -> None",
     "output_type": "error",
     "traceback": [
      "\u001b[1;31m---------------------------------------------------------------------------\u001b[0m",
      "\u001b[1;31mUFuncTypeError\u001b[0m                            Traceback (most recent call last)",
      "\u001b[1;32m~\\AppData\\Local\\Temp\\ipykernel_6020\\180589173.py\u001b[0m in \u001b[0;36m<module>\u001b[1;34m\u001b[0m\n\u001b[1;32m----> 1\u001b[1;33m \u001b[0mnum\u001b[0m \u001b[1;33m*\u001b[0m \u001b[1;36m2\u001b[0m\u001b[1;33m\u001b[0m\u001b[1;33m\u001b[0m\u001b[0m\n\u001b[0m\u001b[0;32m      2\u001b[0m \u001b[0mnum\u001b[0m\u001b[1;33m\u001b[0m\u001b[1;33m\u001b[0m\u001b[0m\n",
      "\u001b[1;31mUFuncTypeError\u001b[0m: ufunc 'multiply' did not contain a loop with signature matching types (dtype('<U32'), dtype('int32')) -> None"
     ]
    }
   ],
   "source": [
    "num * 2\n",
    "num"
   ]
  },
  {
   "cell_type": "code",
   "execution_count": 36,
   "id": "552a5d31",
   "metadata": {},
   "outputs": [
    {
     "name": "stdout",
     "output_type": "stream",
     "text": [
      "[32, 64, 98, 12, 94, 20, 55]\n"
     ]
    }
   ],
   "source": [
    "num= np.array([32,64,98,12,94,20,55])\n",
    "x=[32,64,98,12,94,20,55]\n",
    "print(x)"
   ]
  },
  {
   "cell_type": "code",
   "execution_count": 38,
   "id": "c49eeda2",
   "metadata": {},
   "outputs": [
    {
     "data": {
      "text/plain": [
       "[32, 64, 98, 12, 94, 20, 55, 32, 64, 98, 12, 94, 20, 55]"
      ]
     },
     "execution_count": 38,
     "metadata": {},
     "output_type": "execute_result"
    }
   ],
   "source": [
    "x * 2"
   ]
  },
  {
   "cell_type": "code",
   "execution_count": 39,
   "id": "9ea29c31",
   "metadata": {},
   "outputs": [
    {
     "data": {
      "text/plain": [
       "array([ 64, 128, 196,  24, 188,  40, 110])"
      ]
     },
     "execution_count": 39,
     "metadata": {},
     "output_type": "execute_result"
    }
   ],
   "source": [
    "num * 2"
   ]
  },
  {
   "cell_type": "code",
   "execution_count": 40,
   "id": "8a640c74",
   "metadata": {},
   "outputs": [
    {
     "data": {
      "text/plain": [
       "array([ 8.  , 16.  , 24.5 ,  3.  , 23.5 ,  5.  , 13.75])"
      ]
     },
     "execution_count": 40,
     "metadata": {},
     "output_type": "execute_result"
    }
   ],
   "source": [
    "num / 4"
   ]
  },
  {
   "cell_type": "markdown",
   "id": "3c2fb4c8",
   "metadata": {},
   "source": [
    "list(range(100))"
   ]
  },
  {
   "cell_type": "code",
   "execution_count": 42,
   "id": "5e7b7e81",
   "metadata": {},
   "outputs": [
    {
     "data": {
      "text/plain": [
       "[1, 2, 3, 4, 5, 6, 7, 8, 9]"
      ]
     },
     "execution_count": 42,
     "metadata": {},
     "output_type": "execute_result"
    }
   ],
   "source": [
    "list(range(1,10))"
   ]
  },
  {
   "cell_type": "code",
   "execution_count": 43,
   "id": "4b5b5ed7",
   "metadata": {},
   "outputs": [
    {
     "data": {
      "text/plain": [
       "[1, 10]"
      ]
     },
     "execution_count": 43,
     "metadata": {},
     "output_type": "execute_result"
    }
   ],
   "source": [
    "list(range(1,15,9))"
   ]
  },
  {
   "cell_type": "code",
   "execution_count": 44,
   "id": "f52f6790",
   "metadata": {},
   "outputs": [
    {
     "data": {
      "text/plain": [
       "array([ 2,  3,  4,  5,  6,  7,  8,  9, 10, 11, 12, 13, 14, 15, 16, 17, 18,\n",
       "       19, 20, 21, 22, 23, 24, 25, 26, 27, 28, 29, 30, 31, 32, 33, 34, 35,\n",
       "       36, 37, 38, 39, 40, 41, 42, 43, 44, 45, 46, 47, 48, 49, 50, 51, 52,\n",
       "       53, 54, 55, 56, 57, 58, 59, 60, 61, 62, 63, 64, 65, 66])"
      ]
     },
     "execution_count": 44,
     "metadata": {},
     "output_type": "execute_result"
    }
   ],
   "source": [
    "np.arange(2,67)"
   ]
  },
  {
   "cell_type": "code",
   "execution_count": 45,
   "id": "35dadc87",
   "metadata": {},
   "outputs": [
    {
     "data": {
      "text/plain": [
       "array([2, 4, 6, 8])"
      ]
     },
     "execution_count": 45,
     "metadata": {},
     "output_type": "execute_result"
    }
   ],
   "source": [
    "np.arange(2,10,2)"
   ]
  },
  {
   "cell_type": "code",
   "execution_count": 48,
   "id": "47d41a61",
   "metadata": {},
   "outputs": [
    {
     "data": {
      "text/plain": [
       "98"
      ]
     },
     "execution_count": 48,
     "metadata": {},
     "output_type": "execute_result"
    }
   ],
   "source": [
    "num.max()"
   ]
  },
  {
   "cell_type": "code",
   "execution_count": 50,
   "id": "553307bc",
   "metadata": {},
   "outputs": [
    {
     "data": {
      "text/plain": [
       "array([ 1.,  2.,  3.,  4.,  5.,  6.,  7.,  8.,  9., 10.])"
      ]
     },
     "execution_count": 50,
     "metadata": {},
     "output_type": "execute_result"
    }
   ],
   "source": [
    "np.linspace(1,10,10)"
   ]
  },
  {
   "cell_type": "code",
   "execution_count": 51,
   "id": "9e1473b2",
   "metadata": {},
   "outputs": [],
   "source": [
    "x=np.array([[1,2,3,4],[4,5,6,7],[7,8,9,0],[12,13,13,14]])"
   ]
  },
  {
   "cell_type": "code",
   "execution_count": 52,
   "id": "e8815f31",
   "metadata": {},
   "outputs": [
    {
     "data": {
      "text/plain": [
       "array([[ 1,  2,  3,  4],\n",
       "       [ 4,  5,  6,  7],\n",
       "       [ 7,  8,  9,  0],\n",
       "       [12, 13, 13, 14]])"
      ]
     },
     "execution_count": 52,
     "metadata": {},
     "output_type": "execute_result"
    }
   ],
   "source": [
    "x"
   ]
  },
  {
   "cell_type": "code",
   "execution_count": 53,
   "id": "b44bc5a6",
   "metadata": {},
   "outputs": [
    {
     "data": {
      "text/plain": [
       "(4, 4)"
      ]
     },
     "execution_count": 53,
     "metadata": {},
     "output_type": "execute_result"
    }
   ],
   "source": [
    "x.shape"
   ]
  },
  {
   "cell_type": "code",
   "execution_count": 54,
   "id": "27f18827",
   "metadata": {},
   "outputs": [
    {
     "data": {
      "text/plain": [
       "16"
      ]
     },
     "execution_count": 54,
     "metadata": {},
     "output_type": "execute_result"
    }
   ],
   "source": [
    "x.size"
   ]
  },
  {
   "cell_type": "code",
   "execution_count": 59,
   "id": "aa7c7924",
   "metadata": {},
   "outputs": [
    {
     "ename": "ValueError",
     "evalue": "cannot reshape array of size 16 into shape (3,4)",
     "output_type": "error",
     "traceback": [
      "\u001b[1;31m---------------------------------------------------------------------------\u001b[0m",
      "\u001b[1;31mValueError\u001b[0m                                Traceback (most recent call last)",
      "\u001b[1;32m~\\AppData\\Local\\Temp\\ipykernel_6020\\3921945232.py\u001b[0m in \u001b[0;36m<module>\u001b[1;34m\u001b[0m\n\u001b[1;32m----> 1\u001b[1;33m \u001b[0mx\u001b[0m\u001b[1;33m.\u001b[0m\u001b[0mreshape\u001b[0m\u001b[1;33m(\u001b[0m\u001b[1;36m3\u001b[0m\u001b[1;33m,\u001b[0m\u001b[1;36m4\u001b[0m\u001b[1;33m)\u001b[0m\u001b[1;33m\u001b[0m\u001b[1;33m\u001b[0m\u001b[0m\n\u001b[0m",
      "\u001b[1;31mValueError\u001b[0m: cannot reshape array of size 16 into shape (3,4)"
     ]
    }
   ],
   "source": [
    "x.reshape(3,4)"
   ]
  },
  {
   "cell_type": "code",
   "execution_count": 60,
   "id": "75c6ce6e",
   "metadata": {},
   "outputs": [
    {
     "ename": "ValueError",
     "evalue": "cannot reshape array of size 16 into shape (3,4)",
     "output_type": "error",
     "traceback": [
      "\u001b[1;31m---------------------------------------------------------------------------\u001b[0m",
      "\u001b[1;31mValueError\u001b[0m                                Traceback (most recent call last)",
      "\u001b[1;32m~\\AppData\\Local\\Temp\\ipykernel_6020\\3921945232.py\u001b[0m in \u001b[0;36m<module>\u001b[1;34m\u001b[0m\n\u001b[1;32m----> 1\u001b[1;33m \u001b[0mx\u001b[0m\u001b[1;33m.\u001b[0m\u001b[0mreshape\u001b[0m\u001b[1;33m(\u001b[0m\u001b[1;36m3\u001b[0m\u001b[1;33m,\u001b[0m\u001b[1;36m4\u001b[0m\u001b[1;33m)\u001b[0m\u001b[1;33m\u001b[0m\u001b[1;33m\u001b[0m\u001b[0m\n\u001b[0m",
      "\u001b[1;31mValueError\u001b[0m: cannot reshape array of size 16 into shape (3,4)"
     ]
    }
   ],
   "source": [
    "x.reshape(3,4)"
   ]
  },
  {
   "cell_type": "code",
   "execution_count": 64,
   "id": "0c2190f7",
   "metadata": {},
   "outputs": [
    {
     "data": {
      "text/plain": [
       "array([[ 1],\n",
       "       [ 2],\n",
       "       [ 3],\n",
       "       [ 4],\n",
       "       [ 4],\n",
       "       [ 5],\n",
       "       [ 6],\n",
       "       [ 7],\n",
       "       [ 7],\n",
       "       [ 8],\n",
       "       [ 9],\n",
       "       [ 0],\n",
       "       [12],\n",
       "       [13],\n",
       "       [13],\n",
       "       [14]])"
      ]
     },
     "execution_count": 64,
     "metadata": {},
     "output_type": "execute_result"
    }
   ],
   "source": [
    "x.reshape(16,-1)"
   ]
  },
  {
   "cell_type": "markdown",
   "id": "0d9d40c5",
   "metadata": {},
   "source": [
    "### Series Operation in Pandas"
   ]
  },
  {
   "cell_type": "code",
   "execution_count": 66,
   "id": "1523e92a",
   "metadata": {},
   "outputs": [],
   "source": [
    "import pandas as pd"
   ]
  },
  {
   "cell_type": "code",
   "execution_count": 67,
   "id": "86926f86",
   "metadata": {},
   "outputs": [],
   "source": [
    "s = pd.Series([12,45,42,76,90,82])"
   ]
  },
  {
   "cell_type": "code",
   "execution_count": 68,
   "id": "66de466c",
   "metadata": {},
   "outputs": [
    {
     "data": {
      "text/plain": [
       "0    12\n",
       "1    45\n",
       "2    42\n",
       "3    76\n",
       "4    90\n",
       "5    82\n",
       "dtype: int64"
      ]
     },
     "execution_count": 68,
     "metadata": {},
     "output_type": "execute_result"
    }
   ],
   "source": [
    "s"
   ]
  },
  {
   "cell_type": "code",
   "execution_count": 70,
   "id": "1ed5f4b2",
   "metadata": {},
   "outputs": [],
   "source": [
    "s = pd.Series([12,45,42,76,90,82], index=range(10,16))"
   ]
  },
  {
   "cell_type": "code",
   "execution_count": null,
   "id": "ae6dbe7d",
   "metadata": {},
   "outputs": [],
   "source": []
  }
 ],
 "metadata": {
  "kernelspec": {
   "display_name": "Python 3 (ipykernel)",
   "language": "python",
   "name": "python3"
  },
  "language_info": {
   "codemirror_mode": {
    "name": "ipython",
    "version": 3
   },
   "file_extension": ".py",
   "mimetype": "text/x-python",
   "name": "python",
   "nbconvert_exporter": "python",
   "pygments_lexer": "ipython3",
   "version": "3.9.13"
  }
 },
 "nbformat": 4,
 "nbformat_minor": 5
}
